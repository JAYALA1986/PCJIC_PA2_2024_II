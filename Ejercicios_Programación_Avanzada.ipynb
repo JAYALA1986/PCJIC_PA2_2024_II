{
  "nbformat": 4,
  "nbformat_minor": 0,
  "metadata": {
    "colab": {
      "provenance": [],
      "collapsed_sections": [
        "fSBkdG_2JBng"
      ],
      "authorship_tag": "ABX9TyNMgPOSlggVqWy2vwiUaMtK",
      "include_colab_link": true
    },
    "kernelspec": {
      "name": "python3",
      "display_name": "Python 3"
    },
    "language_info": {
      "name": "python"
    }
  },
  "cells": [
    {
      "cell_type": "markdown",
      "metadata": {
        "id": "view-in-github",
        "colab_type": "text"
      },
      "source": [
        "<a href=\"https://colab.research.google.com/github/JAYALA1986/PCJIC_PA2_2024_II/blob/main/Ejercicios_Programaci%C3%B3n_Avanzada.ipynb\" target=\"_parent\"><img src=\"https://colab.research.google.com/assets/colab-badge.svg\" alt=\"Open In Colab\"/></a>"
      ]
    },
    {
      "cell_type": "markdown",
      "source": [
        "## **POLITÉCNICO COLOMBIANO JAIME ISAZA CADAVID**\n",
        "## **Ingeniería - *Automatización y Control* - *Programación Avanzada***\n",
        "* Profesor: Jean Pierre Díaz*\n",
        "* Estudiante: Jaider Ayala*\n",
        "---\n"
      ],
      "metadata": {
        "id": "LI9PZ-orD3tu"
      }
    },
    {
      "cell_type": "markdown",
      "source": [
        "# **SCRIP_1**\n",
        "> Desarrolle un programa que indique si un año determinado es bisiesto, teniendo presente lo siguiente:\n",
        "* Un año es bisiesto si es divisible entre 4 o entre 400.\n",
        "* Si el año es divibisible entre 100 no es bisiesto.\n"
      ],
      "metadata": {
        "id": "fSBkdG_2JBng"
      }
    },
    {
      "cell_type": "code",
      "source": [
        "# Se solicitara al usuario que ingrese el valor de un año por medio del teclado.\n",
        "ano = int(input(\"Ingrese un año: \"))"
      ],
      "metadata": {
        "colab": {
          "base_uri": "https://localhost:8080/"
        },
        "id": "RycxUBipMgM1",
        "outputId": "af3d356d-db68-433f-fbc6-33751af54ca9"
      },
      "execution_count": null,
      "outputs": [
        {
          "name": "stdout",
          "output_type": "stream",
          "text": [
            "Ingrese un año: 2016\n"
          ]
        }
      ]
    },
    {
      "cell_type": "markdown",
      "source": [
        "> **Nota_1**: Un valor entero es divisible entre otro número entero cuando:\n",
        " * El resultado es un número entero\n",
        " * El residuo de la operación es cero."
      ],
      "metadata": {
        "id": "VNvZQOd7Rfql"
      }
    },
    {
      "cell_type": "code",
      "source": [
        "# Pasos para verificar si el año es bisiesto según la nota1.\n",
        "if (ano % 4 == 0 and ano % 100 != 0) or (ano % 400 == 0):\n",
        "  print(f\"El año {ano} es bisiesto.\")\n",
        "else:\n",
        "  print(f\"El año {ano} no es bisiesto.\")\n",
        "# Fin Programa"
      ],
      "metadata": {
        "colab": {
          "base_uri": "https://localhost:8080/"
        },
        "id": "SciK6qzIOBkJ",
        "outputId": "bad7d06d-1ab6-442d-ed17-53b488956531"
      },
      "execution_count": null,
      "outputs": [
        {
          "output_type": "stream",
          "name": "stdout",
          "text": [
            "El año 2016 es bisiesto.\n"
          ]
        }
      ]
    },
    {
      "cell_type": "markdown",
      "source": [
        "_______"
      ],
      "metadata": {
        "id": "f5db4b86RpTG"
      }
    },
    {
      "cell_type": "markdown",
      "source": [
        "# **SCRIP_2**\n",
        "Escriba 2 scripts, uno con *if/else* y otro con *elif* que soliciten los siguientes datos de una persona:\n",
        "* Nombre\n",
        "* Apellido\n",
        "* Año de nacimiento\n",
        "\n",
        "mostrando un texto que indique que la persona de nombre y apellido tal nació en el año determinado, tiene x edad y pertenece a una generación determinada segun lo indicado en la siguiente imagen:\n",
        "> ![Figura_1](https://drive.google.com/uc?id=1PbOeEVZ9486-N5lyuxv8na8Tlt6IgzXp)"
      ],
      "metadata": {
        "id": "6R8C-U4sOKwj"
      }
    },
    {
      "cell_type": "code",
      "source": [
        "#Solicitar al usuario que ingrese su nombre, su apellido y su año de nacimiento.\n",
        "nombre = input(\"Ingrese su nombre: \")\n",
        "apellido = input(\"Ingrese su apellido: \")\n",
        "ano_nacimiento = int(input(\"Ingrese su año de nacimiento: \"))\n",
        "\n",
        "# Calcular edad de usuario\n",
        "edad = 2024 - ano_nacimiento\n",
        "\n",
        "#Determinar la generación usando el condicional if/else\n",
        "if 1900 <= ano_nacimiento <= 1914:\n",
        "  generacion = \"Generación Interbellum\"\n",
        "else:\n",
        "  if 1915 <= ano_nacimiento <= 1925:\n",
        "    generacion = \"Generación Grandiosa\"\n",
        "  else:\n",
        "    if 1926 <= ano_nacimiento <= 1945:\n",
        "      generacion = \"Generación Silenciosa\"\n",
        "    else:\n",
        "      if 1946 <= ano_nacimiento <= 1964:\n",
        "        generacion = \"Baby Boomers\"\n",
        "      else:\n",
        "        if 1965 <= ano_nacimiento <= 1980:\n",
        "          generacion = \"Generación X\"\n",
        "        else:\n",
        "          if 1981 <= ano_nacimiento <= 1996:\n",
        "            generacion = \"Millennials\"\n",
        "          else:\n",
        "            if 1997 <= ano_nacimiento <= 2012:\n",
        "              generacion = \"Generación Z\"\n",
        "            else:\n",
        "              if 2013 <= ano_nacimiento:\n",
        "                generacion = \"Generación Alpha\"\n",
        "              else:\n",
        "                generacion = \"no determinada\"\n",
        "\n",
        "#Mostrar en pantalla lo solicitado\n",
        "print(f'\\n-------------------------------------------------------------\\n')\n",
        "print(f\"{nombre} {apellido} nació en el año {ano_nacimiento} tiene {edad}\"\n",
        "      + f\" años y pertenece a la generación {generacion}\")\n",
        "# Fin Programa"
      ],
      "metadata": {
        "colab": {
          "base_uri": "https://localhost:8080/"
        },
        "id": "CA2DLkDIRTh-",
        "outputId": "11101ffd-f2db-4b74-9c2b-b6c7e60ba5ff"
      },
      "execution_count": null,
      "outputs": [
        {
          "output_type": "stream",
          "name": "stdout",
          "text": [
            "Ingrese su nombre: j\n",
            "Ingrese su apellido: k\n",
            "Ingrese su año de nacimiento: 1899\n",
            "\n",
            "-------------------------------------------------------------\n",
            "\n",
            "j k nació en el año 1899 tiene 125 años y pertenece a la generación no determinada\n"
          ]
        }
      ]
    },
    {
      "cell_type": "code",
      "source": [
        "#Solicitar al usuario que ingrese su nombre, su apellido y su año de nacimiento.\n",
        "nombre = input(\"Ingrese su nombre: \")\n",
        "apellido = input(\"Ingrese su apellido: \")\n",
        "ano_nacimiento = int(input(\"Ingrese su año de nacimiento: \"))\n",
        "\n",
        "# Calcular edad de usuario\n",
        "edad = 2024 - ano_nacimiento\n",
        "\n",
        "#Determinar la generación usando el condicional elif\n",
        "if 1900 <= ano_nacimiento <= 1914:\n",
        "  generacion = \"Generación Interbellum\"\n",
        "elif 1915 <= ano_nacimiento <= 1925:\n",
        "  generacion = \"Generación Grandiosa\"\n",
        "elif 1926 <= ano_nacimiento <= 1945:\n",
        "  generacion = \"Generación Silenciosa\"\n",
        "elif 1946 <= ano_nacimiento <= 1964:\n",
        "  generacion = \"Baby Boomers\"\n",
        "elif 1965 <= ano_nacimiento <= 1980:\n",
        "  generacion = \"Generación X\"\n",
        "elif 1981 <= ano_nacimiento <= 1996:\n",
        "  generacion = \"Millennials\"\n",
        "elif 1997 <= ano_nacimiento <= 2012:\n",
        "  generacion = \"Generación Z\"\n",
        "elif 2013 <= ano_nacimiento:\n",
        "  generacion = \"Generación Alpha\"\n",
        "else:\n",
        "  generacion = \"no determinada\"\n",
        "\n",
        "#Mostrar en pantalla lo solicitado\n",
        "print(f'\\n-------------------------------------------------------------\\n')\n",
        "print(f\"{nombre} {apellido} nació en el año {ano_nacimiento} tiene {edad}\"\n",
        "      + f\" años y pertenece a la generación {generacion}\")\n",
        "# Fin Programa"
      ],
      "metadata": {
        "colab": {
          "base_uri": "https://localhost:8080/"
        },
        "id": "fIq4DauzfS5w",
        "outputId": "6820655d-f7a9-480e-f345-2f5cf672ac9a"
      },
      "execution_count": 32,
      "outputs": [
        {
          "output_type": "stream",
          "name": "stdout",
          "text": [
            "Ingrese su nombre: Santiago \n",
            "Ingrese su apellido: Ayala de Ayala\n",
            "Ingrese su año de nacimiento: 2020\n",
            "\n",
            "-------------------------------------------------------------\n",
            "\n",
            "Santiago  Ayala de Ayala nació en el año 2020 tiene 4 años y pertenece a la generación Generación Alpha\n"
          ]
        }
      ]
    }
  ]
}
