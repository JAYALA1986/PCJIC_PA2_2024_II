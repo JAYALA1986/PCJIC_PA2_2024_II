{
  "nbformat": 4,
  "nbformat_minor": 0,
  "metadata": {
    "colab": {
      "provenance": [],
      "authorship_tag": "ABX9TyPx0Vgqc/BBvBBLQyVktK3D",
      "include_colab_link": true
    },
    "kernelspec": {
      "name": "python3",
      "display_name": "Python 3"
    },
    "language_info": {
      "name": "python"
    }
  },
  "cells": [
    {
      "cell_type": "markdown",
      "metadata": {
        "id": "view-in-github",
        "colab_type": "text"
      },
      "source": [
        "<a href=\"https://colab.research.google.com/github/JAYALA1986/PCJIC_PA2_2024_II/blob/main/Ejercicios_Programaci%C3%B3n_Avanzada.ipynb\" target=\"_parent\"><img src=\"https://colab.research.google.com/assets/colab-badge.svg\" alt=\"Open In Colab\"/></a>"
      ]
    },
    {
      "cell_type": "markdown",
      "source": [
        "## **POLITÉCNICO COLOMBIANO JAIME ISAZA CADAVID**                               \n",
        "## **Ingeniería - *Automatización y Control* - *Programación Avanzada***\n",
        "* *Profesor: Jean Pierre Díaz*\n",
        "* *Estudiante: Jaider Ayala*\n",
        "---\n"
      ],
      "metadata": {
        "id": "LI9PZ-orD3tu"
      }
    },
    {
      "cell_type": "markdown",
      "source": [
        "# **SCRIP_1**\n",
        "> Desarrolle un programa que indique si un año determinado es bisiesto, teniendo presente lo siguiente:\n",
        "* Un año es bisiesto si es divisible entre 4 o entre 400.\n",
        "* Si el año es divibisible entre 100 no es bisiesto.\n"
      ],
      "metadata": {
        "id": "fSBkdG_2JBng"
      }
    },
    {
      "cell_type": "code",
      "source": [
        "# Se solicitara al usuario que ingrese el valor de un año por medio del teclado.\n",
        "ano = int(input(\"Ingrese un año: \"))"
      ],
      "metadata": {
        "id": "RycxUBipMgM1",
        "collapsed": true
      },
      "execution_count": null,
      "outputs": []
    },
    {
      "cell_type": "markdown",
      "source": [
        "> **Nota_1**: Un valor entero es divisible entre otro número entero cuando:\n",
        " * El resultado es un número entero\n",
        " * El residuo de la operación es cero."
      ],
      "metadata": {
        "id": "VNvZQOd7Rfql"
      }
    },
    {
      "cell_type": "code",
      "source": [
        "# Pasos para verificar si el año es bisiesto según la nota1.\n",
        "if (ano % 4 == 0 and ano % 100 != 0) or (ano % 400 == 0):\n",
        "  print(f\"El año {ano} es bisiesto.\")\n",
        "else:\n",
        "  print(f\"El año {ano} no es bisiesto.\")\n",
        "# Fin Programa"
      ],
      "metadata": {
        "id": "SciK6qzIOBkJ"
      },
      "execution_count": null,
      "outputs": []
    },
    {
      "cell_type": "markdown",
      "source": [
        "_______"
      ],
      "metadata": {
        "id": "f5db4b86RpTG"
      }
    },
    {
      "cell_type": "markdown",
      "source": [
        "# **SCRIP_2**\n",
        "Escriba 2 scripts, uno con *if / else* y otro con *elif* que soliciten los siguientes datos de una persona:\n",
        "* Nombre\n",
        "* Apellido\n",
        "* Año de nacimiento\n",
        "\n",
        "mostrando un texto que indique que la persona de nombre y apellido tal nació en el año determinado, tiene x edad y pertenece a una generación determinada segun lo indicado en la siguiente imagen:\n",
        "> ![Figura_1](https://drive.google.com/uc?id=1PbOeEVZ9486-N5lyuxv8na8Tlt6IgzXp)"
      ],
      "metadata": {
        "id": "6R8C-U4sOKwj"
      }
    },
    {
      "cell_type": "code",
      "source": [
        "#Solicitar al usuario que ingrese su nombre, su apellido y su año de nacimiento.\n",
        "nombre = input(\"Ingrese su nombre: \")\n",
        "apellido = input(\"Ingrese su apellido: \")\n",
        "ano_nacimiento = int(input(\"Ingrese su año de nacimiento: \"))\n",
        "\n",
        "# Calcular edad de usuario\n",
        "edad = 2024 - ano_nacimiento\n",
        "\n",
        "#Determinar la generación usando el condicional if/else\n",
        "if 1900 <= ano_nacimiento <= 1914:\n",
        "  generacion = \"Generación Interbellum\"\n",
        "else:\n",
        "  if 1915 <= ano_nacimiento <= 1925:\n",
        "    generacion = \"Generación Grandiosa\"\n",
        "  else:\n",
        "    if 1926 <= ano_nacimiento <= 1945:\n",
        "      generacion = \"Generación Silenciosa\"\n",
        "    else:\n",
        "      if 1946 <= ano_nacimiento <= 1964:\n",
        "        generacion = \"Baby Boomers\"\n",
        "      else:\n",
        "        if 1965 <= ano_nacimiento <= 1980:\n",
        "          generacion = \"Generación X\"\n",
        "        else:\n",
        "          if 1981 <= ano_nacimiento <= 1996:\n",
        "            generacion = \"Millennials\"\n",
        "          else:\n",
        "            if 1997 <= ano_nacimiento <= 2012:\n",
        "              generacion = \"Generación Z\"\n",
        "            else:\n",
        "              if 2013 <= ano_nacimiento:\n",
        "                generacion = \"Generación Alpha\"\n",
        "              else:\n",
        "                generacion = \"no determinada\"\n",
        "\n",
        "#Mostrar en pantalla lo solicitado\n",
        "print(f'\\n------------------------------------------------------------------\\n')\n",
        "print(f\"{nombre} {apellido} nació en el año {ano_nacimiento} tiene {edad}\"\n",
        "      + f\" años y pertenece a la generación {generacion}\")\n",
        "# Fin Programa"
      ],
      "metadata": {
        "id": "CA2DLkDIRTh-",
        "collapsed": true
      },
      "execution_count": null,
      "outputs": []
    },
    {
      "cell_type": "code",
      "source": [
        "#Solicitar al usuario que ingrese su nombre, su apellido y su año de nacimiento.\n",
        "nombre = input(\"Ingrese su nombre: \")\n",
        "apellido = input(\"Ingrese su apellido: \")\n",
        "ano_nacimiento = int(input(\"Ingrese su año de nacimiento: \"))\n",
        "\n",
        "# Calcular edad de usuario\n",
        "edad = 2024 - ano_nacimiento\n",
        "\n",
        "#Determinar la generación usando el condicional elif\n",
        "if 1900 <= ano_nacimiento <= 1914:\n",
        "  generacion = \"Generación Interbellum\"\n",
        "elif 1915 <= ano_nacimiento <= 1925:\n",
        "  generacion = \"Generación Grandiosa\"\n",
        "elif 1926 <= ano_nacimiento <= 1945:\n",
        "  generacion = \"Generación Silenciosa\"\n",
        "elif 1946 <= ano_nacimiento <= 1964:\n",
        "  generacion = \"Baby Boomers\"\n",
        "elif 1965 <= ano_nacimiento <= 1980:\n",
        "  generacion = \"Generación X\"\n",
        "elif 1981 <= ano_nacimiento <= 1996:\n",
        "  generacion = \"Millennials\"\n",
        "elif 1997 <= ano_nacimiento <= 2012:\n",
        "  generacion = \"Generación Z\"\n",
        "elif 2013 <= ano_nacimiento:\n",
        "  generacion = \"Generación Alpha\"\n",
        "else:\n",
        "  generacion = \"no determinada\"\n",
        "\n",
        "#Mostrar en pantalla lo solicitado\n",
        "print(f'\\n------------------------------------------------------------------\\n')\n",
        "print(f\"{nombre} {apellido} nació en el año {ano_nacimiento} tiene {edad}\"\n",
        "      + f\" años y pertenece a la generación {generacion}\")\n",
        "# Fin Programa"
      ],
      "metadata": {
        "id": "fIq4DauzfS5w"
      },
      "execution_count": null,
      "outputs": []
    },
    {
      "cell_type": "markdown",
      "source": [
        "# **SCRIP_3**\n",
        "> Un investigador está analizando la altura de tres plantas en diferentes etapas de crecimiento. Las alturas se han regristrado en centímetros (cm) y se requiere realizar los siguientes tres análisis básicos:\n",
        "* Cálculo de la altura promedio: Crear una función que reciba las alturas de las tres plantas y devuelva una altura promedio.        \n",
        "    ``` calcular_promedio(altura1, altura2, altura3) ```\n",
        "* Determinación de la altura máxima: Crea una función que reciba las alturas y devuelva la mayor la mayor de las tres.                                      \n",
        "    ``` calcular_Hmax(altura1, altura2, altura3) ```  \n",
        "* Cálculo de índice de crecimiento: Crea una función que reciba las alturas y devuelva un índice de crecimiento.        \n",
        "    ``` calcular_indice_crecimiento(altura1, altura2, altura3) ```\n",
        "  \n",
        "  >> *Nota* :$\\quad índice\\,de\\,crecimiento = \\frac{Altura\\,Máxima - Altura\\, Mínima }{Promedio\\,de\\,Alturas}$\n",
        "\n",
        "\n",
        "\n",
        "\n",
        "\n",
        "\n",
        "\n",
        "\n",
        "\n"
      ],
      "metadata": {
        "id": "IGDPJfWq6jpw"
      }
    },
    {
      "cell_type": "code",
      "source": [
        "# Funciones del programa\n",
        "## Función para calcular la altura promedio de tres plantas\n",
        "def calc_prom(alt1, alt2, alt3):\n",
        "  promedio = (alt1 + alt2 + alt3) / 3\n",
        "  return promedio\n",
        "\n",
        "##Función para calcular el valor máximo\n",
        "def calc_Hmax(alt1, alt2, alt3):\n",
        "  return max(alt1, alt2, alt3)\n",
        "\n",
        "##Función para calcular el indice de crecimiento según los valores ingresados\n",
        "def calcular_indice_crecimiento(alt1, alt2, alt3):\n",
        "  H_max = calc_Hmax(alt1, alt2, alt3)\n",
        "  H_min = min(alt1, alt2, alt3)\n",
        "  indice_de_crecimiento = (H_max - H_min) / prom\n",
        "  return indice_de_crecimiento\n",
        "\n",
        "#Inicio de Programa Principal\n",
        "## Solicitar el ingreso de las alturas de tres plantas en cm\n",
        "alt1 = float(input(\"Ingrese la altura de la planta 1 en cm: \"))\n",
        "alt2 = float(input(\"Ingrese la altura de la planta 2 en cm: \"))\n",
        "alt3 = float(input(\"Ingrese la altura de la planta 3 en cm: \"))\n",
        "\n",
        "##LLamar a la funciones y optener resultados\n",
        "prom = calc_prom(alt1, alt2, alt3)\n",
        "H_max = calc_Hmax(alt1, alt2, alt3)\n",
        "ind_crec = calcular_indice_crecimiento(alt1, alt2, alt3)\n",
        "\n",
        "\n",
        "##Mostrar resultados en pantalla\n",
        "print(f'\\n-------------------------------------------------------------\\n')\n",
        "print(f\"La altura promedio, la altura máxima y el indice de crecimiento\\n\"\n",
        "        + f\"respectivamente de las tres plantas es: {prom}cm, {H_max}cm\"\n",
        "        + f\" y {ind_crec}cm.\")\n",
        "\n",
        "# Fin Programa"
      ],
      "metadata": {
        "id": "PFZqBFQLMzo9"
      },
      "execution_count": null,
      "outputs": []
    },
    {
      "cell_type": "markdown",
      "source": [],
      "metadata": {
        "id": "HeGo8BerShTc"
      }
    }
  ]
}